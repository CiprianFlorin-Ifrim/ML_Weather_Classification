{
 "cells": [
  {
   "cell_type": "code",
   "execution_count": 1,
   "id": "a0969d58",
   "metadata": {},
   "outputs": [
    {
     "data": {
      "text/html": [
       "<style>.container { width:100% !important; }</style>"
      ],
      "text/plain": [
       "<IPython.core.display.HTML object>"
      ]
     },
     "metadata": {},
     "output_type": "display_data"
    }
   ],
   "source": [
    "#---------------------------------------------------------------------------------------------LIBRARIES--------------------------------------------------------------------------------------------                                                                                         #import OpenCV2 library for image processing and algorithms\n",
    "import math\n",
    "import csv \n",
    "import numpy as np                                                                                     #import numpy mathematical library\n",
    "import pandas as pd\n",
    "import pickle\n",
    "import random\n",
    "import matplotlib.pyplot as plt      #import matplotlib library for plotting\n",
    "from micromlgen import port\n",
    "\n",
    "from IPython.core.display import display, HTML                                    \n",
    "display(HTML(\"<style>.container { width:100% !important; }</style>\"))                                  #change width of Jupyer Notebook to use the whole window resolution availab\n",
    "\n",
    "# import the classifier\n",
    "from xgboost import XGBClassifier\n",
    "from sklearn.impute import SimpleImputer\n",
    "from sklearn.model_selection import RandomizedSearchCV, GridSearchCV\n",
    "from sklearn.metrics import precision_recall_fscore_support as score\n",
    "from sklearn.metrics import f1_score, confusion_matrix, ConfusionMatrixDisplay"
   ]
  },
  {
   "cell_type": "code",
   "execution_count": 2,
   "id": "c95a0547",
   "metadata": {},
   "outputs": [],
   "source": [
    "def save_statistics(clf, X_test, y_test, csv_filename, confusion_matrix_filename, metrics_filename):\n",
    "    y_pred = []\n",
    "    with open(csv_filename, \"a\", newline='') as fp:\n",
    "        for row in X_test:\n",
    "            result = int((str(clf.predict(row.reshape(1, -1))).replace('[','').replace(']','')))\n",
    "            y_pred.append(result)\n",
    "            wr = csv.writer(fp, dialect='excel')\n",
    "            wr.writerow([result])\n",
    "    fp.close()\n",
    "    \n",
    "    #https://www.baeldung.com/cs/multi-class-f1-score\n",
    "    #https://stackoverflow.com/questions/31421413/how-to-compute-precision-recall-accuracy-and-f1-score-for-the-multiclass-case\n",
    "    precision, recall, fscore, support = score(y_test.ravel(), y_pred)\n",
    "    \n",
    "    #https://towardsdatascience.com/understanding-the-confusion-matrix-from-scikit-learn-c51d88929c79\n",
    "    #https://towardsdatascience.com/accuracy-precision-recall-or-f1-331fb37c5cb9\n",
    "    metrics = {\"Accuracy: \" : clf.score(X_test, y_test.ravel()),\n",
    "               \"F1 Score Weighted: \" : f1_score(y_test, y_pred, average='weighted'), \n",
    "               \"F1 Score per Class: \" : fscore,\n",
    "               \"Precision per Class: \" : precision,\n",
    "               \"Recall per Class: \" : recall,\n",
    "               \"Support:  \" : support}\n",
    "    \n",
    "    cm = confusion_matrix(y_test, y_pred, labels=clf.classes_)\n",
    "    disp = ConfusionMatrixDisplay(confusion_matrix=cm, display_labels=clf.classes_)\n",
    "    disp.plot()\n",
    "    plt.savefig(confusion_matrix_filename, dpi=500)                                                                                     #https://stackoverflow.com/questions/9622163/save-plot-to-image-file-instead-of-displaying-it-using-matplotlib\n",
    "    plt.show()\n",
    "    \n",
    "    print(\"CLASSES: Clear = 0, Rain = 1, Partially Cloudy = 2, Overcast = 3, Snow = 4\" + \"\\n\")\n",
    "    with open(metrics_filename, 'w') as f:\n",
    "        for k, v in metrics.items():\n",
    "            f.write(str(k) + str(v) + '\\n\\n')\n",
    "            print(str(k) + str(v))\n",
    "    f.close()"
   ]
  },
  {
   "cell_type": "code",
   "execution_count": 3,
   "id": "7dcbee76",
   "metadata": {},
   "outputs": [
    {
     "name": "stdout",
     "output_type": "stream",
     "text": [
      "Your Train Dataset is:  weather_data_2010_2020\n",
      "Your Test Dataset is:  weather_data_2021_2022\n",
      "Please choose 1 to display the dataset or any button to cotinue without displaying!1\n"
     ]
    },
    {
     "data": {
      "text/plain": [
       "array([[ 6.0000e-01, -3.0000e+00, -2.7000e+00,  7.8950e+01,  1.0056e+03,\n",
       "         2.0000e+00],\n",
       "       [ 1.6000e+00, -2.1000e+00, -1.1000e+00,  8.2700e+01,  1.0155e+03,\n",
       "         2.0000e+00],\n",
       "       [ 6.0000e-01, -2.0000e+00, -2.0000e+00,  8.3000e+01,  1.0228e+03,\n",
       "         2.0000e+00],\n",
       "       ...,\n",
       "       [ 2.6000e+00,  1.0000e-01,  5.0000e-01,  8.5930e+01,  9.9010e+02,\n",
       "         1.0000e+00],\n",
       "       [ 1.6000e+00, -9.0000e-01,  0.0000e+00,  8.9410e+01,  1.0024e+03,\n",
       "         1.0000e+00],\n",
       "       [-4.0000e-01, -2.4000e+00, -1.3000e+00,  9.3400e+01,  1.0060e+03,\n",
       "         1.0000e+00]])"
      ]
     },
     "metadata": {},
     "output_type": "display_data"
    },
    {
     "data": {
      "text/plain": [
       "array([0, 0, 0, ..., 2, 2, 2], dtype=int64)"
      ]
     },
     "metadata": {},
     "output_type": "display_data"
    },
    {
     "data": {
      "text/plain": [
       "array([[ 1.5000e+00, -7.0000e-01,  6.0000e-01,  9.4310e+01,  1.0117e+03,\n",
       "         1.0000e+00],\n",
       "       [ 3.3000e+00,  1.3000e+00,  1.0000e+00,  8.5480e+01,  1.0160e+03,\n",
       "         1.0000e+00],\n",
       "       [ 3.6000e+00,  8.0000e-01,  1.4000e+00,  8.6240e+01,  1.0176e+03,\n",
       "         1.0000e+00],\n",
       "       ...,\n",
       "       [ 1.2900e+01,  1.2600e+01,  3.4000e+00,  5.3800e+01,  1.0306e+03,\n",
       "         6.0000e+00],\n",
       "       [ 9.9000e+00,  8.7000e+00,  3.8000e+00,  6.6700e+01,  1.0347e+03,\n",
       "         6.0000e+00],\n",
       "       [ 6.9000e+00,  5.1000e+00, -1.0000e-01,  6.2200e+01,  1.0353e+03,\n",
       "         6.0000e+00]])"
      ]
     },
     "metadata": {},
     "output_type": "display_data"
    },
    {
     "name": "stdout",
     "output_type": "stream",
     "text": [
      "Please choose 1 for Training and 2 for Random CV Search. \n",
      "                       Pressing 3 will load the optimised XGBoost Classifier model!1\n"
     ]
    },
    {
     "name": "stderr",
     "output_type": "stream",
     "text": [
      "G:\\Program Files\\Anaconda\\lib\\site-packages\\xgboost\\sklearn.py:1224: UserWarning: The use of label encoder in XGBClassifier is deprecated and will be removed in a future release. To remove this warning, do the following: 1) Pass option use_label_encoder=False when constructing XGBClassifier object; and 2) Encode your labels (y) as integers starting with 0, i.e. 0, 1, 2, ..., [num_class - 1].\n",
      "  warnings.warn(label_encoder_deprecation_msg, UserWarning)\n"
     ]
    },
    {
     "data": {
      "image/png": "[encoded data removed]",
      "text/plain": [
       "<Figure size 432x288 with 2 Axes>"
      ]
     },
     "metadata": {
      "needs_background": "light"
     },
     "output_type": "display_data"
    },
    {
     "name": "stdout",
     "output_type": "stream",
     "text": [
      "CLASSES: Clear = 0, Rain = 1, Partially Cloudy = 2, Overcast = 3, Snow = 4\n",
      "\n",
      "Accuracy: 0.5805739514348786\n",
      "F1 Score Weighted: 0.5588881109313912\n",
      "F1 Score per Class: [0.37037037 0.76106195 0.45652174 0.1        0.66666667]\n",
      "Precision per Class: [0.27472527 0.69635628 0.58333333 0.4        0.5       ]\n",
      "Recall per Class: [0.56818182 0.83902439 0.375      0.05714286 1.        ]\n",
      "Support:  [ 44 205 168  35   1]\n"
     ]
    }
   ],
   "source": [
    "def main():\n",
    "    #dataset selection and loading\n",
    "    train_set_name = \"weather_data_2010_2020\"\n",
    "    train_dataset = pd.read_csv((\"./datasets/\" + train_set_name + \".csv\"),header=None)\n",
    "    test_set_name = \"weather_data_2021_2022\"\n",
    "    test_dataset = pd.read_csv((\"./datasets/\" + test_set_name + \".csv\"),header=None) \n",
    "\n",
    "    print(\"Your Train Dataset is: \", train_set_name)                                                                       #display dataset name to user\n",
    "    print(\"Your Test Dataset is: \", test_set_name)                                                                       #display dataset name to user\n",
    "\n",
    "    features_selected = 6\n",
    "    #training features\n",
    "    temperature_train = train_dataset.iloc[:, 4:5]\n",
    "    feels_like_train = train_dataset.iloc[:, 7:8]\n",
    "    dew_point_train = train_dataset.iloc[:, 8:9]\n",
    "    humidity_train = train_dataset.iloc[:, 9:10]\n",
    "    pressure_train = train_dataset.iloc[:, 19:20] \n",
    "    uv_index_train = train_dataset.iloc[:, 24:25] \n",
    "\n",
    "    #testing data\n",
    "    temperature_test = test_dataset.iloc[:, 4:5]\n",
    "    feels_like_test = test_dataset.iloc[:, 7:8]\n",
    "    dew_point_test = test_dataset.iloc[:, 8:9]\n",
    "    humidity_true = test_dataset.iloc[:, 9:10]\n",
    "    pressure_test = test_dataset.iloc[:, 19:20]\n",
    "    uv_index_test = test_dataset.iloc[:, 24:25] \n",
    "\n",
    "    X_train = pd.concat([temperature_train, feels_like_train, dew_point_train, humidity_train, pressure_train, uv_index_train], axis=1)\n",
    "    X_train.replace(([np.inf, -np.inf], np.nan), inplace=True)                                                            #replace any infinite values with nan\n",
    "    X_train = X_train.to_numpy()  \n",
    "\n",
    "\n",
    "    y_train = train_dataset.iloc[:, 30:31].to_numpy()\n",
    "    y_true = test_dataset.iloc[:, 30:31].to_numpy()\n",
    "\n",
    "    #https://pandas.pydata.org/pandas-docs/stable/user_guide/merging.html\n",
    "    test_data = pd.concat([temperature_test, feels_like_test, dew_point_test, humidity_true, pressure_test, uv_index_test], axis=1)       \n",
    "    test_data.replace(([np.inf, -np.inf], np.nan), inplace=True)                                                            #replace any infinite values with nan\n",
    "    X_test = test_data.to_numpy()\n",
    "\n",
    "    #change all nan values in all datasets with the most frequent value of the dataset\n",
    "    imp = SimpleImputer(missing_values=np.nan, strategy='most_frequent')\n",
    "    imp.fit(X_train)\n",
    "    imp.fit(y_train)\n",
    "    imp.fit(X_test)\n",
    "    imp.fit(y_true)\n",
    "\n",
    "    disp = int(input(\"Please choose 1 to display the dataset or any button to cotinue without displaying!\"))\n",
    "    if disp == 1:\n",
    "        display(X_train)\n",
    "        display(y_train.ravel())\n",
    "\n",
    "        display(X_test)\n",
    "    else: print(\"Not displaying dataset!\")   \n",
    "\n",
    "    #------------------------------------------------------------------------------------------\n",
    "    #https://scikit-learn.org/stable/modules/generated/sklearn.naive_bayes.GaussianNB.html\n",
    "    #https://www.analyticsvidhya.com/blog/2021/11/implementation-of-gaussian-naive-bayes-in-python-sklearn/\n",
    "    choice = int(input(\"\"\"Please choose 1 for Training and 2 for Random CV Search. \n",
    "                       Pressing 3 will load the optimised XGBoost Classifier model!\"\"\"))\n",
    "    clf_type = \"default\" if choice == 1 else \"optimised\"\n",
    "    model_name = \"./trained_models/xgb_optimised_\" + train_set_name + \"_\" + test_set_name + \"_\" + str(features_selected) + \"f.p\"\n",
    "    confusion_matrix_filename = \"./confusion_matrix/xgb_\" + str(clf_type) + \"_\" + train_set_name + \"_\"  + test_set_name + \"_\" + str(features_selected) + \"f.png\"\n",
    "    metrics_filename = \"./metrics/xgb_\" + str(clf_type) + \"_\" + train_set_name + \"_\"  + test_set_name + \"_\" + str(features_selected) + \"f.txt\"\n",
    "    csv_filename = \"./outputs/output_xgb_\"  + str(clf_type) + \"_\" + train_set_name + \"_\"  + test_set_name + \"_\" + str(features_selected) + \"f.csv\"\n",
    "\n",
    "    if choice == 1:\n",
    "        # Create XGBoost classifer object and train it on the selected dataset\n",
    "        xgb = (XGBClassifier(objective = 'multi:softmax', eval_metric = 'merror')).fit(X_train, y_train.ravel())\n",
    "        save_statistics(xgb, X_test, y_true, csv_filename, confusion_matrix_filename, metrics_filename)\n",
    "\n",
    "    elif choice == 2:\n",
    "        #random search: https://www.kaggle.com/tilii7/hyperparameter-grid-search-with-xgboost\n",
    "        #grid search: https://www.mikulskibartosz.name/xgboost-hyperparameter-tuning-in-python-using-grid-search/\n",
    "        #label encoder warning: https://stackoverflow.com/questions/45251126/deprecation-warning-on-xgboost-sklearn\n",
    "        estimator = XGBClassifier(objective = 'multi:softmax', nthread = 20, seed = 42, num_class = 5, eval_metric = 'merror')\n",
    "        parameters = {'max_depth': range (2, 10, 1),'n_estimators': range(60, 220, 40),'learning_rate': [0.1, 0.01, 0.05]}\n",
    "\n",
    "        grid_search = GridSearchCV(estimator=estimator, param_grid=parameters, cv = 5, verbose = True,  refit = True)\n",
    "        grid_search.fit(X_train, y_train.ravel())\n",
    "        \n",
    "        print(grid_search.best_params_)\n",
    "        print(grid_search.best_estimator_)\n",
    "        pickle.dump(grid_search.best_estimator_, open(model_name, \"wb\"))\n",
    "\n",
    "    elif choice == 3:\n",
    "        xgb = pickle.load(open(model_name, \"rb\"))\n",
    "        print(\"Parameters Classifier Loaded: \", xgb.get_params())\n",
    "\n",
    "        save_statistics(xgb, X_test, y_true, csv_filename, confusion_matrix_filename, metrics_filename)\n",
    "\n",
    "if __name__ == \"__main__\":                                                                                               #guard boilerplate\n",
    "    main()"
   ]
  }
 ],
 "metadata": {
  "kernelspec": {
   "display_name": "Python 3",
   "language": "python",
   "name": "python3"
  },
  "language_info": {
   "codemirror_mode": {
    "name": "ipython",
    "version": 3
   },
   "file_extension": ".py",
   "mimetype": "text/x-python",
   "name": "python",
   "nbconvert_exporter": "python",
   "pygments_lexer": "ipython3",
   "version": "3.8.8"
  }
 },
 "nbformat": 4,
 "nbformat_minor": 5
}
