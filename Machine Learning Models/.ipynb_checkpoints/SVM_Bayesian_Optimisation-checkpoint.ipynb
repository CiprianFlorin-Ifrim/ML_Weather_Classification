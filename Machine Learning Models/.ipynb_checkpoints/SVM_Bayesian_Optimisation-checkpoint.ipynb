{
 "cells": [
  {
   "cell_type": "code",
   "execution_count": 1,
   "id": "6a7f0a78",
   "metadata": {},
   "outputs": [
    {
     "data": {
      "text/html": [
       "<style>.container { width:100% !important; }</style>"
      ],
      "text/plain": [
       "<IPython.core.display.HTML object>"
      ]
     },
     "metadata": {},
     "output_type": "display_data"
    }
   ],
   "source": [
    "# automatic svm hyperparameter tuning using skopt \n",
    "import pandas as pd\n",
    "import numpy as np \n",
    "from sklearn.model_selection import cross_val_score\n",
    "from sklearn.svm import SVC\n",
    "from sklearn.impute import SimpleImputer\n",
    "from sklearn.model_selection import RepeatedStratifiedKFold\n",
    "from skopt import BayesSearchCV\n",
    "\n",
    "from IPython.core.display import display, HTML                                    \n",
    "display(HTML(\"<style>.container { width:100% !important; }</style>\"))                                  #change width of Jupyer Notebook to use the whole window resolution availab"
   ]
  },
  {
   "cell_type": "code",
   "execution_count": 2,
   "id": "1c60ff22",
   "metadata": {},
   "outputs": [
    {
     "name": "stdout",
     "output_type": "stream",
     "text": [
      "Your Train Dataset is:  weather_data_2000_2019_3c\n",
      "Your Test Dataset is:  weather_data_2020_2021_3c\n"
     ]
    },
    {
     "data": {
      "text/plain": [
       "SimpleImputer(strategy='most_frequent')"
      ]
     },
     "execution_count": 2,
     "metadata": {},
     "output_type": "execute_result"
    }
   ],
   "source": [
    "#dataset selection and loading\n",
    "train_set_name = \"weather_data_2000_2019_3c\"\n",
    "train_dataset = pd.read_csv((\"./datasets/\" + train_set_name + \".csv\"),header=None)\n",
    "test_set_name = \"weather_data_2020_2021_3c\"\n",
    "test_dataset = pd.read_csv((\"./datasets/\" + test_set_name + \".csv\"),header=None) \n",
    "\n",
    "print(\"Your Train Dataset is: \", train_set_name)                                                                       #display dataset name to user\n",
    "print(\"Your Test Dataset is: \", test_set_name)                                                                       #display dataset name to user\n",
    "\n",
    "features_selected = 5\n",
    "#training features\n",
    "temperature_train = train_dataset.iloc[:, 4:5]\n",
    "feels_like_train = train_dataset.iloc[:, 7:8]\n",
    "dew_point_train = train_dataset.iloc[:, 8:9]\n",
    "humidity_train = train_dataset.iloc[:, 9:10]\n",
    "pressure_train = train_dataset.iloc[:, 19:20] \n",
    "#uv_index_train = train_dataset.iloc[:, 24:25] \n",
    "\n",
    "#testing data\n",
    "temperature_test = test_dataset.iloc[:, 4:5]\n",
    "feels_like_test = test_dataset.iloc[:, 7:8]\n",
    "dew_point_test = test_dataset.iloc[:, 8:9]\n",
    "humidity_test = test_dataset.iloc[:, 9:10]\n",
    "pressure_test = test_dataset.iloc[:, 19:20]\n",
    "#uv_index_test = test_dataset.iloc[:, 24:25] \n",
    "\n",
    "X_train = pd.concat([temperature_train, feels_like_train, dew_point_train, humidity_train, pressure_train], axis=1)  #, uv_index_train], axis=1)\n",
    "X_train.replace(([np.inf, -np.inf], np.nan), inplace=True)                                                            #replace any infinite values with nan\n",
    "X_train = X_train.to_numpy().astype('float64')  \n",
    "\n",
    "y_train = train_dataset.iloc[:, 30:31].to_numpy().astype('int32')\n",
    "y_true = test_dataset.iloc[:, 30:31].to_numpy().astype('int32')\n",
    "\n",
    "#https://pandas.pydata.org/pandas-docs/stable/user_guide/merging.html\n",
    "test_data = pd.concat([temperature_test, feels_like_test, dew_point_test, humidity_test, pressure_test], axis=1)  #, uv_index_test], axis=1)       \n",
    "test_data.replace(([np.inf, -np.inf], np.nan), inplace=True)                                                           #replace any infinite values with nan\n",
    "X_test = test_data.to_numpy().astype('float64')  \n",
    "\n",
    "#change all nan values in all datasets with the most frequent value of the dataset\n",
    "imp = SimpleImputer(missing_values=np.nan, strategy='most_frequent')\n",
    "imp.fit(X_train)\n",
    "imp.fit(y_train)\n",
    "imp.fit(X_test)\n",
    "imp.fit(y_true)"
   ]
  },
  {
   "cell_type": "code",
   "execution_count": null,
   "id": "05fce6bc",
   "metadata": {},
   "outputs": [
    {
     "name": "stdout",
     "output_type": "stream",
     "text": [
      "Running Bayesian Optimisation!\n",
      "Fitting 15 folds for each of 1 candidates, totalling 15 fits\n",
      "Fitting 15 folds for each of 1 candidates, totalling 15 fits\n",
      "Fitting 15 folds for each of 1 candidates, totalling 15 fits\n",
      "Fitting 15 folds for each of 1 candidates, totalling 15 fits\n",
      "Fitting 15 folds for each of 1 candidates, totalling 15 fits\n",
      "Fitting 15 folds for each of 1 candidates, totalling 15 fits\n",
      "Fitting 15 folds for each of 1 candidates, totalling 15 fits\n",
      "Fitting 15 folds for each of 1 candidates, totalling 15 fits\n",
      "Fitting 15 folds for each of 1 candidates, totalling 15 fits\n",
      "Fitting 15 folds for each of 1 candidates, totalling 15 fits\n",
      "Fitting 15 folds for each of 1 candidates, totalling 15 fits\n",
      "Fitting 15 folds for each of 1 candidates, totalling 15 fits\n"
     ]
    }
   ],
   "source": [
    "#https://machinelearningmastery.com/scikit-optimize-for-hyperparameter-tuning-in-machine-learning/\n",
    "def main():\n",
    "    #define search space\n",
    "    params = dict()\n",
    "    params['C'] = (1e-6, 100.0, 'log-uniform')\n",
    "    params['gamma'] = (1e-6, 100.0, 'log-uniform')\n",
    "    params['degree'] = (1,5)\n",
    "    params['kernel'] = ['linear', 'poly', 'rbf', 'sigmoid']\n",
    "    \n",
    "    # define evaluation\n",
    "    cv = RepeatedStratifiedKFold(n_splits=5, n_repeats=3, random_state=1)\n",
    "    \n",
    "    # define the search\n",
    "    search = BayesSearchCV(estimator=SVC(), search_spaces=params, n_jobs=-1, cv=cv, verbose = 10)\n",
    "    \n",
    "    # perform the search\n",
    "    print(\"Running Bayesian Optimisation!\")\n",
    "    search.fit(X_train, y_train.ravel())\n",
    "    \n",
    "    # report the best result\n",
    "    print(search.best_score_)\n",
    "    print(search.best_params_)\n",
    "    \n",
    "if __name__ == \"__main__\":   \n",
    "    main()"
   ]
  }
 ],
 "metadata": {
  "kernelspec": {
   "display_name": "Python 3",
   "language": "python",
   "name": "python3"
  },
  "language_info": {
   "codemirror_mode": {
    "name": "ipython",
    "version": 3
   },
   "file_extension": ".py",
   "mimetype": "text/x-python",
   "name": "python",
   "nbconvert_exporter": "python",
   "pygments_lexer": "ipython3",
   "version": "3.8.8"
  }
 },
 "nbformat": 4,
 "nbformat_minor": 5
}
