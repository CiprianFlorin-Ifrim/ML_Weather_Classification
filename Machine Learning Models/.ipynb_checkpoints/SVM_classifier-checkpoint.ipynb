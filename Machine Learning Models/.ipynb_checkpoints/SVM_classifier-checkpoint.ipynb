{
 "cells": [
  {
   "cell_type": "code",
   "execution_count": 1,
   "id": "5c9de843",
   "metadata": {},
   "outputs": [
    {
     "data": {
      "text/html": [
       "<style>.container { width:100% !important; }</style>"
      ],
      "text/plain": [
       "<IPython.core.display.HTML object>"
      ]
     },
     "metadata": {},
     "output_type": "display_data"
    }
   ],
   "source": [
    "#---------------------------------------------------------------------------------------------LIBRARIES--------------------------------------------------------------------------------------------                                                                                         #import OpenCV2 library for image processing and algorithms\n",
    "import csv \n",
    "import numpy as np                                                                                     #import numpy mathematical library\n",
    "import pandas as pd\n",
    "import pickle\n",
    "from micromlgen import port\n",
    "import matplotlib.pyplot as plt      #import matplotlib library for plotting\n",
    "\n",
    "from IPython.core.display import display, HTML                                    \n",
    "display(HTML(\"<style>.container { width:100% !important; }</style>\"))                                  #change width of Jupyer Notebook to use the whole window resolution availab\n",
    "\n",
    "# import the regressor\n",
    "from sklearn import svm\n",
    "from sklearn.impute import SimpleImputer\n",
    "from sklearn.model_selection import RandomizedSearchCV, GridSearchCV\n",
    "from sklearn.metrics import precision_recall_fscore_support as score\n",
    "from sklearn.metrics import f1_score, confusion_matrix, ConfusionMatrixDisplay"
   ]
  },
  {
   "cell_type": "code",
   "execution_count": 2,
   "id": "53e1980a",
   "metadata": {},
   "outputs": [],
   "source": [
    "def save_statistics(clf, X_test, y_test, csv_filename, confusion_matrix_filename, metrics_filename):\n",
    "    y_pred = []\n",
    "    with open(csv_filename, \"a\", newline='') as fp:\n",
    "        for row in X_test:\n",
    "            result = int((str(clf.predict(row.reshape(1, -1))).replace('[','').replace(']','')))\n",
    "            y_pred.append(result)\n",
    "            wr = csv.writer(fp, dialect='excel')\n",
    "            wr.writerow([result])\n",
    "    fp.close()\n",
    "    \n",
    "    #https://www.baeldung.com/cs/multi-class-f1-score\n",
    "    #https://stackoverflow.com/questions/31421413/how-to-compute-precision-recall-accuracy-and-f1-score-for-the-multiclass-case\n",
    "    precision, recall, fscore, support = score(y_test.ravel(), y_pred)\n",
    "    \n",
    "    #https://towardsdatascience.com/understanding-the-confusion-matrix-from-scikit-learn-c51d88929c79\n",
    "    #https://towardsdatascience.com/accuracy-precision-recall-or-f1-331fb37c5cb9\n",
    "    metrics = {\"Accuracy: \" : clf.score(X_test, y_test.ravel()), \"F1 Score Weighted: \" : f1_score(y_test, y_pred, average='weighted'), \n",
    "                                            \"F1 Score per Class: \" : fscore, \"Precision per Class: \" : recall, \"Support:  \" : support}\n",
    "    \n",
    "    cm = confusion_matrix(y_test, y_pred, labels=clf.classes_)\n",
    "    disp = ConfusionMatrixDisplay(confusion_matrix=cm, display_labels=clf.classes_)\n",
    "    disp.plot()\n",
    "    plt.savefig(confusion_matrix_filename, dpi=500)                                                                                     #https://stackoverflow.com/questions/9622163/save-plot-to-image-file-instead-of-displaying-it-using-matplotlib\n",
    "    plt.show()\n",
    "    \n",
    "    print(\"CLASSES: Clear = 0, Rain = 1, Partially Cloudy = 2, Overcast = 3, Snow = 4\" + \"\\n\")\n",
    "    with open(metrics_filename, 'w') as f:\n",
    "        for k, v in metrics.items():\n",
    "            f.write(str(k) + str(v) + '\\n\\n')\n",
    "            print(str(k) + str(v))\n",
    "    f.close()"
   ]
  },
  {
   "cell_type": "code",
   "execution_count": 9,
   "id": "e2193e70",
   "metadata": {
    "scrolled": true
   },
   "outputs": [
    {
     "name": "stdout",
     "output_type": "stream",
     "text": [
      "Your Train Dataset is:  weather_data_2000_2019\n",
      "Your Test Dataset is:  weather_data_2020_2021\n",
      "Please choose 1 to display the dataset or any button to cotinue without displaying!1\n"
     ]
    },
    {
     "data": {
      "text/plain": [
       "array([[   7.9 ,    7.5 ,    6.9 ,   93.72, 1024.5 ],\n",
       "       [   8.4 ,    7.7 ,    6.7 ,   89.02, 1025.3 ],\n",
       "       [   9.1 ,    8.7 ,    7.8 ,   91.37, 1018.6 ],\n",
       "       ...,\n",
       "       [   7.4 ,    5.1 ,    5.2 ,   85.75, 1033.6 ],\n",
       "       [   6.8 ,    5.3 ,    5.7 ,   93.15, 1029.7 ],\n",
       "       [   7.3 ,    5.6 ,    6.5 ,   94.87, 1031.6 ]])"
      ]
     },
     "metadata": {},
     "output_type": "display_data"
    },
    {
     "data": {
      "text/plain": [
       "array([1, 1, 1, ..., 2, 2, 2], dtype=int64)"
      ]
     },
     "metadata": {},
     "output_type": "display_data"
    },
    {
     "data": {
      "text/plain": [
       "array([[   5.4 ,    4.  ,    3.9 ,   90.37, 1029.3 ],\n",
       "       [   8.8 ,    7.2 ,    7.1 ,   89.27, 1020.4 ],\n",
       "       [   8.3 ,    6.4 ,    5.2 ,   81.85, 1021.4 ],\n",
       "       ...,\n",
       "       [  11.2 ,   10.6 ,    9.1 ,   87.68, 1004.2 ],\n",
       "       [  14.  ,   14.  ,   12.  ,   87.59, 1012.3 ],\n",
       "       [  13.6 ,   13.6 ,   11.  ,   84.72, 1016.5 ]])"
      ]
     },
     "metadata": {},
     "output_type": "display_data"
    },
    {
     "name": "stdout",
     "output_type": "stream",
     "text": [
      "Please choose 1 for Training and 2 for Random CV Search. \n",
      "                       Pressing 3 will load the optimised Random Forest Classifier model!1\n"
     ]
    },
    {
     "name": "stderr",
     "output_type": "stream",
     "text": [
      "G:\\Program Files\\Anaconda\\lib\\site-packages\\sklearn\\metrics\\_classification.py:1245: UndefinedMetricWarning: Precision and F-score are ill-defined and being set to 0.0 in labels with no predicted samples. Use `zero_division` parameter to control this behavior.\n",
      "  _warn_prf(average, modifier, msg_start, len(result))\n"
     ]
    },
    {
     "data": {
      "image/png": "[encoded data removed]",
      "text/plain": [
       "<Figure size 432x288 with 2 Axes>"
      ]
     },
     "metadata": {
      "needs_background": "light"
     },
     "output_type": "display_data"
    },
    {
     "name": "stdout",
     "output_type": "stream",
     "text": [
      "CLASSES: Clear = 0, Rain = 1, Partially Cloudy = 2, Overcast = 3, Snow = 4\n",
      "\n",
      "Accuracy: 0.4883720930232558\n",
      "F1 Score Weighted: 0.3219923062406584\n",
      "F1 Score per Class: [0.02325581 0.65561694 0.         0.         0.        ]\n",
      "Precision per Class: [0.01176471 1.         0.         0.         0.        ]\n",
      "Support:  [ 85 356 249  40   1]\n"
     ]
    }
   ],
   "source": [
    "def main():\n",
    "    #dataset selection and loading\n",
    "    train_set_name = \"weather_data_2000_2019\"\n",
    "    train_dataset = pd.read_csv((\"./datasets/\" + train_set_name + \".csv\"),header=None)\n",
    "    test_set_name = \"weather_data_2020_2021\"\n",
    "    test_dataset = pd.read_csv((\"./datasets/\" + test_set_name + \".csv\"),header=None) \n",
    "\n",
    "    print(\"Your Train Dataset is: \", train_set_name)                                                                       #display dataset name to user\n",
    "    print(\"Your Test Dataset is: \", test_set_name)                                                                       #display dataset name to user\n",
    "\n",
    "    features_selected = 6\n",
    "    #training features\n",
    "    temperature_train = train_dataset.iloc[:, 4:5]\n",
    "    feels_like_train = train_dataset.iloc[:, 7:8]\n",
    "    dew_point_train = train_dataset.iloc[:, 8:9]\n",
    "    humidity_train = train_dataset.iloc[:, 9:10]\n",
    "    pressure_train = train_dataset.iloc[:, 19:20] \n",
    "    uv_index_train = train_dataset.iloc[:, 24:25] \n",
    "\n",
    "    #testing data\n",
    "    temperature_test = test_dataset.iloc[:, 4:5]\n",
    "    feels_like_test = test_dataset.iloc[:, 7:8]\n",
    "    dew_point_test = test_dataset.iloc[:, 8:9]\n",
    "    humidity_true = test_dataset.iloc[:, 9:10]\n",
    "    pressure_test = test_dataset.iloc[:, 19:20]\n",
    "    uv_index_test = test_dataset.iloc[:, 24:25] \n",
    "\n",
    "    X_train = pd.concat([temperature_train, feels_like_train, dew_point_train, humidity_train, pressure_train], axis=1)#, uv_index_train], axis=1)\n",
    "    X_train.replace(([np.inf, -np.inf], np.nan), inplace=True)                                                            #replace any infinite values with nan\n",
    "    X_train = X_train.to_numpy()  \n",
    "\n",
    "\n",
    "    y_train = train_dataset.iloc[:, 30:31].to_numpy()\n",
    "    y_true = test_dataset.iloc[:, 30:31].to_numpy()\n",
    "\n",
    "    #https://pandas.pydata.org/pandas-docs/stable/user_guide/merging.html\n",
    "    test_data = pd.concat([temperature_test, feels_like_test, dew_point_test, humidity_true, pressure_test], axis=1)#, uv_index_test], axis=1)       \n",
    "    test_data.replace(([np.inf, -np.inf], np.nan), inplace=True)                                                            #replace any infinite values with nan\n",
    "    X_test = test_data.to_numpy()\n",
    "\n",
    "    #change all nan values in all datasets with the most frequent value of the dataset\n",
    "    imp = SimpleImputer(missing_values=np.nan, strategy='most_frequent')\n",
    "    imp.fit(X_train)\n",
    "    imp.fit(y_train)\n",
    "    imp.fit(X_test)\n",
    "    imp.fit(y_true)\n",
    "\n",
    "    disp = int(input(\"Please choose 1 to display the dataset or any button to cotinue without displaying!\"))\n",
    "    if disp == 1:\n",
    "        display(X_train)\n",
    "        display(y_train.ravel())\n",
    "\n",
    "        display(X_test)\n",
    "    else: print(\"Not displaying dataset!\")   \n",
    "\n",
    "    #------------------------------------------------------------------------------------------\n",
    "    #https://scikit-learn.org/stable/modules/svm.html\n",
    "    #https://www.datacamp.com/community/tutorials/svm-classification-scikit-learn-python\n",
    "    #https://towardsdatascience.com/hyperparameter-tuning-for-support-vector-machines-c-and-gamma-parameters-6a5097416167\n",
    "    choice = int(input(\"\"\"Please choose 1 for Training and 2 for Random CV Search. \n",
    "                       Pressing 3 will load the optimised Random Forest Classifier model!\"\"\"))\n",
    "    clf_type = \"default\" if choice == 1 else \"optimised\"\n",
    "    model_name = \"./trained_models/svm_optimised_\" + train_set_name + \"_\" + test_set_name + \"_\" + str(features_selected) + \"f.p\"\n",
    "    confusion_matrix_filename = \"./confusion_matrix/svm_\" + str(clf_type) + \"_\" + train_set_name + \"_\"  + test_set_name + \"_\" + str(features_selected) + \"f.png\"\n",
    "    metrics_filename = \"./metrics/svm_\" + str(clf_type) + \"_\" + train_set_name + \"_\"  + test_set_name + \"_\" + str(features_selected) + \"f.txt\"\n",
    "    csv_filename = \"./outputs/output_svm_\"  + str(clf_type) + \"_\" + train_set_name + \"_\"  + test_set_name + \"_\" + str(features_selected) + \"f.csv\"\n",
    "\n",
    "    if choice == 1:\n",
    "        #Create a svm Classifier\n",
    "        #best parameters found svm.SVC(kernel = 'rbf', C = 120, gamma = 0.0001)\n",
    "        svm_clf = (svm.SVC()).fit(X_train, y_train.ravel())\n",
    "        save_statistics(svm_clf, X_test, y_true, csv_filename, confusion_matrix_filename, metrics_filename)\n",
    "        \n",
    "    elif choice == 2:\n",
    "        #https://www.vebuso.com/2020/03/svm-hyperparameter-tuning-using-gridsearchcv/\n",
    "        #https://www.geeksforgeeks.org/svm-hyperparameter-tuning-using-gridsearchcv-ml/\n",
    "        svm_clf = svm.SVC(probability = True, random_state = 1)\n",
    "        auc = make_scorer(roc_auc_score)\n",
    "        rand_list = {\"C\": stats.uniform(2, 100),\n",
    "                     \"gamma\": stats.uniform(0.1, 1),\n",
    "                    \"kernel\": (\"poly\", \"rbf\")}\n",
    "\n",
    "        rand_search = RandomizedSearchCV(svm_clf, param_distributions = rand_list, n_iter = 20, n_jobs = 16, cv = 3, random_state = 2017, scoring = auc, verbose = 3) \n",
    "        rand_search.fit(X_train, y_train.ravel()) \n",
    "\n",
    "        # print best parameter after tuning\n",
    "        print(rand_search.best_params_)\n",
    "\n",
    "        # print how our model looks after hyper-parameter tuning\n",
    "        print(rand_search.best_estimator_)\n",
    "        pickle.dump(rand_search.best_estimator_, open(model_name, \"wb\"))\n",
    "        \n",
    "    elif choice == 3:\n",
    "        svm_clf = pickle.load(open(model_name, \"rb\"))\n",
    "        print(\"Parameters Classifier Loaded: \", svm.get_params())\n",
    "\n",
    "        save_statistics(svm_clf, X_test, y_true, csv_filename, confusion_matrix_filename, metrics_filename)\n",
    "\n",
    "if __name__ == \"__main__\":                                                                                               #guard boilerplate\n",
    "    main()"
   ]
  }
 ],
 "metadata": {
  "kernelspec": {
   "display_name": "Python 3",
   "language": "python",
   "name": "python3"
  },
  "language_info": {
   "codemirror_mode": {
    "name": "ipython",
    "version": 3
   },
   "file_extension": ".py",
   "mimetype": "text/x-python",
   "name": "python",
   "nbconvert_exporter": "python",
   "pygments_lexer": "ipython3",
   "version": "3.8.8"
  }
 },
 "nbformat": 4,
 "nbformat_minor": 5
}
