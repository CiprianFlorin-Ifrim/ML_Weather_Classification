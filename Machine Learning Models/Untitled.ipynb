{
 "cells": [
  {
   "cell_type": "code",
   "execution_count": 13,
   "id": "d18c6c99",
   "metadata": {},
   "outputs": [
    {
     "data": {
      "text/html": [
       "<style>.container { width:100% !important; }</style>"
      ],
      "text/plain": [
       "<IPython.core.display.HTML object>"
      ]
     },
     "metadata": {},
     "output_type": "display_data"
    },
    {
     "name": "stdout",
     "output_type": "stream",
     "text": [
      "./trained_models/gnb_optimised_rebalanced_SMOTE_2000_2019_2020_2021_5f.p\n"
     ]
    }
   ],
   "source": [
    "from IPython.core.display import display, HTML                                    \n",
    "display(HTML(\"<style>.container { width:100% !important; }</style>\"))                                  #change width of Jupyer Notebook to use the whole window resolution availab \n",
    "   \n",
    "    \n",
    "train_set_name = \"2000_2019\"\n",
    "test_set_name = \"2020_2021\"\n",
    "\n",
    "features_selected = 5\n",
    "rebalance = 1\n",
    "choice = 1\n",
    "    \n",
    "if rebalance == 1: clf_type = \"default_rebalanced_SMOTE\" if choice == 1 else \"optimised_rebalanced\" \n",
    "elif rebalance == 2: clf_type = \"default_rebalanced_ADASYN\" if choice == 1 else \"optimised_rebalanced\" \n",
    "else: clf_type = \"default\" if choice == 1 else \"optimised\"\n",
    "    \n",
    "model_name = \"./trained_models/gnb_optimised_\" + (str(clf_type))[8:24] + \"_\" + train_set_name + \"_\" + test_set_name + \"_\" + str(features_selected) + \"f.p\"\n",
    "print(model_name)"
   ]
  }
 ],
 "metadata": {
  "kernelspec": {
   "display_name": "Python 3",
   "language": "python",
   "name": "python3"
  },
  "language_info": {
   "codemirror_mode": {
    "name": "ipython",
    "version": 3
   },
   "file_extension": ".py",
   "mimetype": "text/x-python",
   "name": "python",
   "nbconvert_exporter": "python",
   "pygments_lexer": "ipython3",
   "version": "3.8.8"
  }
 },
 "nbformat": 4,
 "nbformat_minor": 5
}
