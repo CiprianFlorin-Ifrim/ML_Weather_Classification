{
 "cells": [
  {
   "cell_type": "code",
   "execution_count": 10,
   "id": "01edc882",
   "metadata": {},
   "outputs": [
    {
     "data": {
      "text/html": [
       "<style>.container { width:100% !important; }</style>"
      ],
      "text/plain": [
       "<IPython.core.display.HTML object>"
      ]
     },
     "metadata": {},
     "output_type": "display_data"
    }
   ],
   "source": [
    "import numpy as np, time\n",
    "from sklearn.impute import SimpleImputer\n",
    "import pandas as pd\n",
    "from sklearn.model_selection import train_test_split, cross_val_predict\n",
    "from sklearn.preprocessing import LabelEncoder\n",
    "from sklearn.metrics import accuracy_score, classification_report\n",
    "\n",
    "from IPython.core.display import display, HTML                                    \n",
    "display(HTML(\"<style>.container { width:100% !important; }</style>\"))                                  #change width of Jupyer Notebook to use the whole window resolution availa"
   ]
  },
  {
   "cell_type": "code",
   "execution_count": null,
   "id": "c4dbefa5",
   "metadata": {},
   "outputs": [],
   "source": [
    "#https://github.com/alankrantas/sefr_multiclass_classifier\n",
    "#based on https://github.com/sefr-classifier/sefr/blob/master/SEFR.py\n",
    "#research paper: https://arxiv.org/abs/2006.04620\n",
    "class SEFR:\n",
    "    def __init__(self):\n",
    "        \"\"\"\n",
    "        Initialize model class.\n",
    "        \"\"\"\n",
    "        \n",
    "        self.labels = np.array([])\n",
    "        self.weights = np.array([])\n",
    "        self.bias = np.array([])\n",
    "        self.training_time = 0\n",
    "\n",
    "\n",
    "    def fit(self, data_train, target_train):\n",
    "        \"\"\"\n",
    "        Train the model.\n",
    "        \"\"\"\n",
    "        \n",
    "        self.labels = np.unique(target_train) # get all labels\n",
    "        self.weights = []\n",
    "        self.bias = []\n",
    "        self.training_time = 0\n",
    "        \n",
    "        start_time = time.monotonic_ns()\n",
    "        data_train = np.array(data_train, dtype='float32')\n",
    "        target_train = np.array(target_train, dtype='int32')\n",
    "        \n",
    "        for label in self.labels: # train binary classifiers on each labels\n",
    "            \n",
    "            pos_labels = (target_train != label) # use \"not the label\" as positive class\n",
    "            neg_labels = np.invert(pos_labels) # use the label as negative class\n",
    "            \n",
    "            pos_indices = data_train[pos_labels]\n",
    "            neg_indices = data_train[neg_labels]\n",
    "            \n",
    "            avg_pos = np.mean(pos_indices, axis=0)\n",
    "            avg_neg = np.mean(neg_indices, axis=0)\n",
    "            \n",
    "            weight = np.nan_to_num((avg_pos - avg_neg) / (avg_pos + avg_neg)) # calculate model weight of \"not the label\"\n",
    "            weighted_scores = np.dot(data_train, weight)\n",
    "            \n",
    "            pos_score_avg = np.mean(weighted_scores[pos_labels])\n",
    "            neg_score_avg = np.mean(weighted_scores[neg_labels])\n",
    "            \n",
    "            bias = -(neg_indices.size * pos_score_avg + # calculate weighted average of bias\n",
    "                     pos_indices.size * neg_score_avg) / (neg_indices.size + pos_indices.size)\n",
    "            \n",
    "            self.weights.append(weight) # label weight\n",
    "            self.bias.append(bias) # label bias\n",
    "        \n",
    "        self.weights = np.array(self.weights, dtype='float32')\n",
    "        self.bias = np.array(self.bias, dtype='float32')\n",
    "        self.training_time = time.monotonic_ns() - start_time\n",
    "\n",
    "\n",
    "    def predict(self, new_data):\n",
    "        \"\"\"\n",
    "        Predict labels of the new data.\n",
    "        \"\"\"\n",
    "        \n",
    "        new_data = np.array(new_data, dtype='float32')\n",
    "\n",
    "        # calculate weighted score + bias on each labels\n",
    "        weighted_score = np.add(np.dot(self.weights, new_data.T).T, self.bias)\n",
    "        return self.labels[np.argmin(weighted_score, axis=1)]\n",
    "\n",
    "\n",
    "    def get_params(self, deep=True): # for cross-validation\n",
    "        return {}"
   ]
  },
  {
   "cell_type": "code",
   "execution_count": 11,
   "id": "5124fb3c",
   "metadata": {},
   "outputs": [
    {
     "name": "stdout",
     "output_type": "stream",
     "text": [
      "Your Train Dataset is:  weather_data_2000_2019\n",
      "Your Test Dataset is:  weather_data_2020_2021\n",
      "Please choose 1 to display the dataset or any button to cotinue without displaying!1\n"
     ]
    },
    {
     "data": {
      "text/plain": [
       "array([[   7.9 ,    7.5 ,    6.9 ,   93.72, 1024.5 ],\n",
       "       [   8.4 ,    7.7 ,    6.7 ,   89.02, 1025.3 ],\n",
       "       [   9.1 ,    8.7 ,    7.8 ,   91.37, 1018.6 ],\n",
       "       ...,\n",
       "       [   7.4 ,    5.1 ,    5.2 ,   85.75, 1033.6 ],\n",
       "       [   6.8 ,    5.3 ,    5.7 ,   93.15, 1029.7 ],\n",
       "       [   7.3 ,    5.6 ,    6.5 ,   94.87, 1031.6 ]])"
      ]
     },
     "metadata": {},
     "output_type": "display_data"
    },
    {
     "data": {
      "text/plain": [
       "array([1, 1, 1, ..., 2, 2, 2], dtype=int64)"
      ]
     },
     "metadata": {},
     "output_type": "display_data"
    },
    {
     "data": {
      "text/plain": [
       "array([[   5.4 ,    4.  ,    3.9 ,   90.37, 1029.3 ],\n",
       "       [   8.8 ,    7.2 ,    7.1 ,   89.27, 1020.4 ],\n",
       "       [   8.3 ,    6.4 ,    5.2 ,   81.85, 1021.4 ],\n",
       "       ...,\n",
       "       [  11.2 ,   10.6 ,    9.1 ,   87.68, 1004.2 ],\n",
       "       [  14.  ,   14.  ,   12.  ,   87.59, 1012.3 ],\n",
       "       [  13.6 ,   13.6 ,   11.  ,   84.72, 1016.5 ]])"
      ]
     },
     "metadata": {},
     "output_type": "display_data"
    },
    {
     "name": "stdout",
     "output_type": "stream",
     "text": [
      "Training time: 0 ns\n",
      "Training CV score: 0.419\n",
      "Test accuracy: 0.435\n"
     ]
    }
   ],
   "source": [
    "if __name__ == '__main__':\n",
    "    from sklearn.impute import SimpleImputer\n",
    "    import pandas as pd\n",
    "    from sklearn.model_selection import train_test_split, cross_val_predict\n",
    "    from sklearn.preprocessing import LabelEncoder\n",
    "    from sklearn.metrics import accuracy_score, classification_report\n",
    "    \n",
    "    #dataset selection and loading\n",
    "    train_set_name = \"weather_data_2000_2019\"\n",
    "    train_dataset = pd.read_csv((\"./datasets/\" + train_set_name + \".csv\"),header=None)\n",
    "    test_set_name = \"weather_data_2020_2021\"\n",
    "    test_dataset = pd.read_csv((\"./datasets/\" + test_set_name + \".csv\"),header=None) \n",
    "\n",
    "    print(\"Your Train Dataset is: \", train_set_name)                                                                       #display dataset name to user\n",
    "    print(\"Your Test Dataset is: \", test_set_name)                                                                       #display dataset name to user\n",
    "\n",
    "    features_selected = 5\n",
    "    #training features\n",
    "    temperature_train = train_dataset.iloc[:, 4:5]\n",
    "    feels_like_train = train_dataset.iloc[:, 7:8]\n",
    "    dew_point_train = train_dataset.iloc[:, 8:9]\n",
    "    humidity_train = train_dataset.iloc[:, 9:10]\n",
    "    pressure_train = train_dataset.iloc[:, 19:20] \n",
    "    #uv_index_train = train_dataset.iloc[:, 24:25] \n",
    "\n",
    "    #testing data\n",
    "    temperature_test = test_dataset.iloc[:, 4:5]\n",
    "    feels_like_test = test_dataset.iloc[:, 7:8]\n",
    "    dew_point_test = test_dataset.iloc[:, 8:9]\n",
    "    humidity_true = test_dataset.iloc[:, 9:10]\n",
    "    pressure_test = test_dataset.iloc[:, 19:20]\n",
    "    #uv_index_test = test_dataset.iloc[:, 24:25] \n",
    "\n",
    "    X_train = pd.concat([temperature_train, feels_like_train, dew_point_train, humidity_train, pressure_train], axis=1)   #, uv_index_train], axis=1)\n",
    "    X_train.replace(([np.inf, -np.inf], np.nan), inplace=True)                                                            #replace any infinite values with nan\n",
    "    X_train = X_train.to_numpy()  \n",
    "\n",
    "    y_train = train_dataset.iloc[:, 30:31].to_numpy()\n",
    "    y_true = test_dataset.iloc[:, 30:31].to_numpy()\n",
    "\n",
    "    #https://pandas.pydata.org/pandas-docs/stable/user_guide/merging.html\n",
    "    test_data = pd.concat([temperature_test, feels_like_test, dew_point_test, humidity_true, pressure_test], axis=1)       #, uv_index_test], axis=1)       \n",
    "    test_data.replace(([np.inf, -np.inf], np.nan), inplace=True)                                                           #replace any infinite values with nan\n",
    "    X_test = test_data.to_numpy()\n",
    "\n",
    "    #change all nan values in all datasets with the most frequent value of the dataset\n",
    "    imp = SimpleImputer(missing_values=np.nan, strategy='most_frequent')\n",
    "    imp.fit(X_train)\n",
    "    imp.fit(y_train)\n",
    "    imp.fit(X_test)\n",
    "    imp.fit(y_true)\n",
    "    \n",
    "    disp = int(input(\"Please choose 1 to display the dataset or any button to cotinue without displaying!\"))\n",
    "    if disp == 1:\n",
    "        display(X_train)\n",
    "        display(y_train.ravel())\n",
    "\n",
    "        display(X_test)\n",
    "    else: print(\"Not displaying dataset!\")   \n",
    "    \n",
    "    # encode target\n",
    "    le = LabelEncoder()\n",
    "    y_train = le.fit_transform(y_train.ravel())\n",
    "    class_names = le.classes_\n",
    "\n",
    "\n",
    "    # train model and predict labels\n",
    "    clf = SEFR()\n",
    "    clf.fit(X_train, y_train.ravel())\n",
    "    predicted = clf.predict(X_test)\n",
    "    cv_predicted = cross_val_predict(clf, X_train, y_train.ravel(), cv=5)\n",
    "\n",
    "    # view prediction results\n",
    "    print('Training time:', clf.training_time, 'ns')\n",
    "    print('Training CV score:', accuracy_score(y_train.ravel(), cv_predicted).round(3))\n",
    "    print('Test accuracy:', accuracy_score(y_true, predicted).round(3))"
   ]
  }
 ],
 "metadata": {
  "kernelspec": {
   "display_name": "Python 3",
   "language": "python",
   "name": "python3"
  },
  "language_info": {
   "codemirror_mode": {
    "name": "ipython",
    "version": 3
   },
   "file_extension": ".py",
   "mimetype": "text/x-python",
   "name": "python",
   "nbconvert_exporter": "python",
   "pygments_lexer": "ipython3",
   "version": "3.8.8"
  }
 },
 "nbformat": 4,
 "nbformat_minor": 5
}
